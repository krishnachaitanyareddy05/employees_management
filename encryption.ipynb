{
  "nbformat": 4,
  "nbformat_minor": 0,
  "metadata": {
    "colab": {
      "provenance": [],
      "authorship_tag": "ABX9TyOQf4C34WUWCyHc2hxBctWH",
      "include_colab_link": true
    },
    "kernelspec": {
      "name": "python3",
      "display_name": "Python 3"
    },
    "language_info": {
      "name": "python"
    }
  },
  "cells": [
    {
      "cell_type": "markdown",
      "metadata": {
        "id": "view-in-github",
        "colab_type": "text"
      },
      "source": [
        "<a href=\"https://colab.research.google.com/github/krishnachaitanyareddy05/employees_management/blob/main/encryption.ipynb\" target=\"_parent\"><img src=\"https://colab.research.google.com/assets/colab-badge.svg\" alt=\"Open In Colab\"/></a>"
      ]
    },
    {
      "cell_type": "code",
      "source": [
        "def encrypt(text, shift):\n",
        "    result = \"\"\n",
        "\n",
        "    # Traverse through each character in the text\n",
        "    for i in range(len(text)):\n",
        "        char = text[i]\n",
        "\n",
        "        # Encrypt uppercase characters\n",
        "        if char.isupper():\n",
        "            result += chr((ord(char) + shift - 65) % 26 + 65)\n",
        "        # Encrypt lowercase characters\n",
        "        elif char.islower():\n",
        "            result += chr((ord(char) + shift - 97) % 26 + 97)\n",
        "        # If it's neither, just add the character as is\n",
        "        else:\n",
        "            result += char\n",
        "\n",
        "    return result\n",
        "\n"
      ],
      "metadata": {
        "id": "XRDJa9hrDsN-"
      },
      "execution_count": null,
      "outputs": []
    },
    {
      "cell_type": "code",
      "source": [
        "text = \"Krishna\"\n",
        "shift = 2\n",
        "encrypted_text = encrypt(text, shift)\n",
        "print(f\"Text : {text}\")\n",
        "print(f\"Shift : {shift}\")\n",
        "print(f\"Encrypted Text: {encrypted_text}\")"
      ],
      "metadata": {
        "colab": {
          "base_uri": "https://localhost:8080/"
        },
        "id": "jsTq6awjGx6-",
        "outputId": "07670949-dcea-4565-8de1-a202307b49e7"
      },
      "execution_count": null,
      "outputs": [
        {
          "output_type": "stream",
          "name": "stdout",
          "text": [
            "Text : Krishna#\n",
            "Shift : 2\n",
            "Encrypted Text: Mtkujpc#\n"
          ]
        }
      ]
    }
  ]
}